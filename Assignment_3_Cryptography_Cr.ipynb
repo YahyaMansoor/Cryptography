{
  "nbformat": 4,
  "nbformat_minor": 0,
  "metadata": {
    "colab": {
      "provenance": [],
      "authorship_tag": "ABX9TyOwQwpqNfz2rD023yK5heWk",
      "include_colab_link": true
    },
    "kernelspec": {
      "name": "python3",
      "display_name": "Python 3"
    },
    "language_info": {
      "name": "python"
    }
  },
  "cells": [
    {
      "cell_type": "markdown",
      "metadata": {
        "id": "view-in-github",
        "colab_type": "text"
      },
      "source": [
        "<a href=\"https://colab.research.google.com/github/YahyaMansoor/Cryptography/blob/main/Assignment_3_Cryptography_Cr.ipynb\" target=\"_parent\"><img src=\"https://colab.research.google.com/assets/colab-badge.svg\" alt=\"Open In Colab\"/></a>"
      ]
    },
    {
      "cell_type": "code",
      "source": [
        "!pip install pycryptodome"
      ],
      "metadata": {
        "colab": {
          "base_uri": "https://localhost:8080/"
        },
        "id": "go191usbWQR_",
        "outputId": "4a30ccf5-a9ec-4e47-90a4-10b652230736"
      },
      "execution_count": null,
      "outputs": [
        {
          "output_type": "stream",
          "name": "stdout",
          "text": [
            "Looking in indexes: https://pypi.org/simple, https://us-python.pkg.dev/colab-wheels/public/simple/\n",
            "Requirement already satisfied: pycryptodome in /usr/local/lib/python3.8/dist-packages (3.16.0)\n"
          ]
        }
      ]
    },
    {
      "cell_type": "code",
      "source": [
        "from typing import List, Tuple\n",
        "from Crypto.Cipher import AES\n",
        "\n",
        "def convert_hex_str_to_int_list(a: str) -> List[int]:\n",
        "    return [int(a[i: i+2], 16) for i in range(0, len(a), 2)]\n",
        "\n",
        "def extract_iv_and_cipher(cipher_list: List[int], iv_length: int) -> Tuple[List[int], List[int]]:\n",
        "\n",
        "    return (cipher_list[:iv_length], cipher_list[iv_length:])\n",
        "\n",
        "def compute_block_num(key: List[int], cipher: List[int]) -> int:\n",
        "\n",
        "    return round(len(cipher) / len(key))\n",
        "\n",
        "def cbc_decryption(key: str, cipher: str) -> str:\n",
        "\n",
        "    key_list = convert_hex_str_to_int_list(key)\n",
        "    block_size = len(key_list)\n",
        "    cipher_list = convert_hex_str_to_int_list(cipher)\n",
        "    iv_list, cipher_list = extract_iv_and_cipher(cipher_list, block_size)\n",
        "    block_num = compute_block_num(key_list, cipher_list)\n",
        "    aes_decoder = AES.new(bytes(key_list), AES.MODE_ECB)\n",
        "    iv = bytes(iv_list)\n",
        "    result_list = []\n",
        "    for i in range(block_num):\n",
        "        result_need_xor = aes_decoder.decrypt(bytes(cipher_list[i*block_size: (i+1) * block_size]))\n",
        "        result = [iv[j] ^ result_need_xor[j] for j in range(len(result_need_xor))]\n",
        "        result_list.extend(result)\n",
        "        iv = cipher_list[i*block_size: (i+1) * block_size]\n",
        "    return \"\".join([chr(x) for x in result_list[: len(result_list) - result_list[len(result_list)-1]]])\n",
        "\n",
        "def ctr_iv_add(key: List[int], step: int) -> List[int]:\n",
        "\n",
        "    key_len = len(key)\n",
        "    for i in range(key_len - 1, -1, -1):\n",
        "        j = key[i] + step\n",
        "        if j % 0xFF == j:\n",
        "            key[i] = j\n",
        "            break\n",
        "        else:\n",
        "            key[i] = j % 0xFF\n",
        "            step = int(j / 0xFF)\n",
        "    return key\n",
        "\n",
        "def ctr_decryption(key: str, cipher: str) -> str:\n",
        "\n",
        "    key_list = convert_hex_str_to_int_list(key)\n",
        "    block_size = len(key_list)\n",
        "    cipher_list = convert_hex_str_to_int_list(cipher)\n",
        "    iv_list, cipher_list = extract_iv_and_cipher(cipher_list, block_size)\n",
        "    block_num = compute_block_num(key_list, cipher_list)\n",
        "    result_list = []\n",
        "    aes_encoder = AES.new(bytes(key_list), AES.MODE_ECB)\n",
        "    for i in range(block_num):\n",
        "        round_iv = ctr_iv_add(iv_list[:], i)\n",
        "        iv_cipher = aes_encoder.encrypt(bytes(round_iv))\n",
        "        cipher_block = cipher_list[i*block_size: (i+1) * block_size]\n",
        "        result = [iv_cipher[j] ^ cipher_block[j] for j in range(len(cipher_block))]\n",
        "        result_list.extend(result)\n",
        "    return \"\".join([chr(x) for x in result_list])\n",
        "\n",
        "if __name__ == \"__main__\":\n",
        "\n",
        "    print(\"CBC mode:\")\n",
        "\n",
        "    key = \"140b41b22a29beb4061bda66b6747e14\"\n",
        "    ciphertext = \"4ca00ff4c898d61e1edbf1800618fb2828a226d160dad07883d04e008a7897ee2e4b7465d5290d0c0e6c6822236e1daafb94ffe0c5da05d9476be028ad7c1d81\"\n",
        "    result = cbc_decryption(key, ciphertext)\n",
        "    print(\"Question 1: {}\".format(result))\n",
        "\n",
        "    key = \"140b41b22a29beb4061bda66b6747e14\"\n",
        "    ciphertext = \"5b68629feb8606f9a6667670b75b38a5b4832d0f26e1ab7da33249de7d4afc48e713ac646ace36e872ad5fb8a512428a6e21364b0c374df45503473c5242a253\"\n",
        "    result = cbc_decryption(key, ciphertext)\n",
        "    print(\"Question 2: {}\".format(result))\n",
        "\n",
        "    print(\"CTR mode:\")\n",
        "\n",
        "    key = \"36f18357be4dbd77f050515c73fcf9f2\"\n",
        "    ciphertext = \"69dda8455c7dd4254bf353b773304eec0ec7702330098ce7f7520d1cbbb20fc388d1b0adb5054dbd7370849dbf0b88d393f252e764f1f5f7ad97ef79d59ce29f5f51eeca32eabedd9afa9329\"\n",
        "    result = ctr_decryption(key, ciphertext)\n",
        "    print(\"Question 3: {}\".format(result))\n",
        "\n",
        "    key = \"36f18357be4dbd77f050515c73fcf9f2\"\n",
        "    ciphertext = \"770b80259ec33beb2561358a9f2dc617e46218c0a53cbeca695ae45faa8952aa0e311bde9d4e01726d3184c34451\"\n",
        "    result = ctr_decryption(key, ciphertext)\n",
        "    print(\"Question 4: {}\".format(result))"
      ],
      "metadata": {
        "colab": {
          "base_uri": "https://localhost:8080/"
        },
        "id": "J5UIQaT-WWeY",
        "outputId": "9da5d24a-d056-43b7-bce3-bc1f00b046c7"
      },
      "execution_count": null,
      "outputs": [
        {
          "output_type": "stream",
          "name": "stdout",
          "text": [
            "CBC mode:\n",
            "Question 1: Basic CBC mode encryption needs padding.\n",
            "Question 2: Our implementation uses rand. IV\n",
            "CTR mode:\n",
            "Question 3: CTR mode lets you build a stream cipher from a block cipher.\n",
            "Question 4: Always avoid the two time pad!\n"
          ]
        }
      ]
    }
  ]
}